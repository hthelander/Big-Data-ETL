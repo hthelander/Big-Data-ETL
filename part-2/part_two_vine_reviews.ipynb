{
  "cells": [
    {
      "cell_type": "code",
      "execution_count": 1,
      "metadata": {
        "colab": {
          "base_uri": "https://localhost:8080/"
        },
        "id": "-8eFW_wl1n39",
        "outputId": "957b3020-cc5f-4c8a-f636-ef69a3192416"
      },
      "outputs": [
        {
          "output_type": "stream",
          "name": "stdout",
          "text": [
            "\r0% [Working]\r            \rIgn:1 https://developer.download.nvidia.com/compute/machine-learning/repos/ubuntu2004/x86_64  InRelease\n",
            "\r0% [Connecting to archive.ubuntu.com] [Connecting to security.ubuntu.com (91.18\r                                                                               \rHit:2 https://developer.download.nvidia.com/compute/cuda/repos/ubuntu2004/x86_64  InRelease\n",
            "\r0% [Connecting to archive.ubuntu.com] [Connecting to security.ubuntu.com (91.18\r                                                                               \rHit:3 https://cloud.r-project.org/bin/linux/ubuntu focal-cran40/ InRelease\n",
            "\r0% [Connecting to archive.ubuntu.com] [Connecting to security.ubuntu.com (91.18\r                                                                               \rHit:4 https://developer.download.nvidia.com/compute/machine-learning/repos/ubuntu2004/x86_64  Release\n",
            "Get:5 http://security.ubuntu.com/ubuntu focal-security InRelease [114 kB]\n",
            "Hit:6 http://ppa.launchpad.net/c2d4u.team/c2d4u4.0+/ubuntu focal InRelease\n",
            "Hit:7 http://archive.ubuntu.com/ubuntu focal InRelease\n",
            "Hit:8 http://ppa.launchpad.net/cran/libgit2/ubuntu focal InRelease\n",
            "Get:9 http://archive.ubuntu.com/ubuntu focal-updates InRelease [114 kB]\n",
            "Hit:11 http://ppa.launchpad.net/deadsnakes/ppa/ubuntu focal InRelease\n",
            "Hit:12 http://ppa.launchpad.net/graphics-drivers/ppa/ubuntu focal InRelease\n",
            "Get:13 http://archive.ubuntu.com/ubuntu focal-backports InRelease [108 kB]\n",
            "Hit:14 http://ppa.launchpad.net/ubuntugis/ppa/ubuntu focal InRelease\n",
            "Fetched 336 kB in 2s (142 kB/s)\n",
            "Reading package lists... Done\n"
          ]
        }
      ],
      "source": [
        "import os\n",
        "# Find the latest version of spark 3.2  from http://www.apache.org/dist/spark/ and enter as the spark version\n",
        "# For example:\n",
        "# spark_version = 'spark-3.2.3'\n",
        "spark_version = 'spark-3.2.3'\n",
        "os.environ['SPARK_VERSION']=spark_version\n",
        "\n",
        "# Install Spark and Java\n",
        "!apt-get update\n",
        "!apt-get install openjdk-8-jdk-headless -qq > /dev/null\n",
        "!wget -q http://www.apache.org/dist/spark/$SPARK_VERSION/$SPARK_VERSION-bin-hadoop3.2.tgz\n",
        "!tar xf $SPARK_VERSION-bin-hadoop3.2.tgz\n",
        "!pip install -q findspark\n",
        "\n",
        "# Set Environment Variables\n",
        "os.environ[\"JAVA_HOME\"] = \"/usr/lib/jvm/java-8-openjdk-amd64\"\n",
        "os.environ[\"SPARK_HOME\"] = f\"/content/{spark_version}-bin-hadoop3.2\"\n",
        "\n",
        "# Start a SparkSession\n",
        "import findspark\n",
        "findspark.init()"
      ]
    },
    {
      "cell_type": "code",
      "execution_count": 2,
      "metadata": {
        "colab": {
          "base_uri": "https://localhost:8080/"
        },
        "id": "BzCrgs0Z1rnw",
        "outputId": "f8948620-3654-4bb7-9359-9e8c745a97f0"
      },
      "outputs": [
        {
          "output_type": "stream",
          "name": "stdout",
          "text": [
            "--2023-02-27 00:47:44--  https://jdbc.postgresql.org/download/postgresql-42.2.9.jar\n",
            "Resolving jdbc.postgresql.org (jdbc.postgresql.org)... 72.32.157.228, 2001:4800:3e1:1::228\n",
            "Connecting to jdbc.postgresql.org (jdbc.postgresql.org)|72.32.157.228|:443... connected.\n",
            "HTTP request sent, awaiting response... 200 OK\n",
            "Length: 914037 (893K) [application/java-archive]\n",
            "Saving to: ‘postgresql-42.2.9.jar.3’\n",
            "\n",
            "postgresql-42.2.9.j 100%[===================>] 892.61K  5.48MB/s    in 0.2s    \n",
            "\n",
            "2023-02-27 00:47:44 (5.48 MB/s) - ‘postgresql-42.2.9.jar.3’ saved [914037/914037]\n",
            "\n"
          ]
        }
      ],
      "source": [
        "# Get postgresql package\n",
        "!wget https://jdbc.postgresql.org/download/postgresql-42.2.9.jar"
      ]
    },
    {
      "cell_type": "code",
      "execution_count": 3,
      "metadata": {
        "id": "0DuBth0V2PR8"
      },
      "outputs": [],
      "source": [
        "# Import Spark and create a SparkSession\n",
        "from pyspark.sql import SparkSession\n",
        "spark = SparkSession.builder.appName(\"BigData-HW-1\").config(\"spark.driver.extraClassPath\",\"/content/postgresql-42.2.9.jar\").getOrCreate()"
      ]
    },
    {
      "cell_type": "markdown",
      "metadata": {
        "id": "D3W2XJVi2CU-"
      },
      "source": [
        "# Extract the Amazon Data into Spark DataFrame"
      ]
    },
    {
      "cell_type": "code",
      "execution_count": 4,
      "metadata": {
        "colab": {
          "base_uri": "https://localhost:8080/"
        },
        "id": "Na_stw7b1wfU",
        "outputId": "3447f632-85fa-43ad-b277-f8ebfa251c98"
      },
      "outputs": [
        {
          "output_type": "stream",
          "name": "stdout",
          "text": [
            "+-----------+-----------+--------------+----------+--------------+--------------------+-------------------+-----------+-------------+-----------+----+-----------------+--------------------+--------------------+-----------+\n",
            "|marketplace|customer_id|     review_id|product_id|product_parent|       product_title|   product_category|star_rating|helpful_votes|total_votes|vine|verified_purchase|     review_headline|         review_body|review_date|\n",
            "+-----------+-----------+--------------+----------+--------------+--------------------+-------------------+-----------+-------------+-----------+----+-----------------+--------------------+--------------------+-----------+\n",
            "|         US|   45610553| RMDCHWD0Y5OZ9|B00HH62VB6|     618218723|AGPtek® 10 Isolat...|Musical Instruments|          3|            0|          1|   N|                N|         Three Stars|Works very good, ...| 2015-08-31|\n",
            "|         US|   14640079| RZSL0BALIYUNU|B003LRN53I|     986692292|Sennheiser HD203 ...|Musical Instruments|          5|            0|          0|   N|                Y|          Five Stars|Nice headphones a...| 2015-08-31|\n",
            "|         US|    6111003| RIZR67JKUDBI0|B0006VMBHI|     603261968|AudioQuest LP rec...|Musical Instruments|          3|            0|          1|   N|                Y|         Three Stars|removes dust. doe...| 2015-08-31|\n",
            "|         US|    1546619|R27HL570VNL85F|B002B55TRG|     575084461|Hohner Inc. 560BX...|Musical Instruments|          5|            0|          0|   N|                Y|I purchase these ...|I purchase these ...| 2015-08-31|\n",
            "|         US|   12222213|R34EBU9QDWJ1GD|B00N1YPXW2|     165236328|Blue Yeti USB Mic...|Musical Instruments|          5|            0|          0|   N|                Y|          Five Stars|This is an awesom...| 2015-08-31|\n",
            "|         US|   46018513|R1WCUI4Z1SIQEO|B001N4GRGS|     134151483|Middle Atlantic P...|Musical Instruments|          5|            0|          0|   N|                N|          Five Stars|Used to cool equi...| 2015-08-31|\n",
            "|         US|   10225065| RL5LNO26GAVJ1|B009PJRMHQ|     694166585|Kmise 1pc Pickgua...|Musical Instruments|          2|            3|          4|   N|                Y|Will not Fit Epip...|Note- Does not Fi...| 2015-08-31|\n",
            "|         US|    6356995|R3GYQ5W8JHP8SB|B00NKBDAZS|     446431775|Kealoha Concert U...|Musical Instruments|          5|            0|          0|   N|                Y|          Five Stars|Well built Ukulel...| 2015-08-31|\n",
            "|         US|   35297198|R30SHYQXGG5EYC|B006MIU7U2|     125871705|Halco 80000 - MR1...|Musical Instruments|          5|            0|          0|   N|                Y|Works fine. Hope ...|Had to replace a ...| 2015-08-31|\n",
            "|         US|   32139520|R14YLXA56NP51I|B000FIBD0I|     771888534|Gator GPTBLACK Pl...|Musical Instruments|          5|            1|          1|   N|                N|I upgraded the po...|I've owned multip...| 2015-08-31|\n",
            "|         US|   36060782|R1ZH0HSH38IOTZ|B0002E52GG|      68535945|Hetman 1 - Light ...|Musical Instruments|          5|            0|          0|   N|                Y|My son's favourit...|Consistent qualit...| 2015-08-31|\n",
            "|         US|    5301309|R3H53KLLC210XI|B00RZIH52G|     725541773|Dragonpad pop fil...|Musical Instruments|          4|            0|          0|   N|                Y|Great pop filter ...|by far the best p...| 2015-08-31|\n",
            "|         US|   37472935|R3OOR877NGA8JK|B001792BAU|      46570323|DharmaObjects Rel...|Musical Instruments|          3|            0|          0|   N|                Y|                  Ok|Beautiful set. On...| 2015-08-31|\n",
            "|         US|   33578270|R1BY7WKOZ3KMH0|B009GSKW1Y|     547963417|Musiclily SSS Pla...|Musical Instruments|          2|            0|          0|   N|                Y|           Two Stars|Bridge pickup was...| 2015-08-31|\n",
            "|         US|   22070226| RXP1TFSWE8EG9|B0002F4TKA|     436074323|Vic Firth America...|Musical Instruments|          5|            0|          0|   N|                Y|          Five Stars|Feels good and la...| 2015-08-31|\n",
            "|         US|   52862655|R3J44DPP12OTLJ|B00K17YFBW|      81933093|Guitar Stand for ...|Musical Instruments|          5|            0|          0|   N|                Y|Great stand... on...|I love the stand....| 2015-08-31|\n",
            "|         US|    4427243| RFOV69SK0T676|B00EQ24HJS|     669249276|Generic 3PLY Faux...|Musical Instruments|          5|            0|          0|   N|                Y|Looks great. You ...|On time. Looks gr...| 2015-08-31|\n",
            "|         US|   14108571|R2HUWDNW62FOL3|B00IBOYTUE|     749537231|Audio 2000 6525 3...|Musical Instruments|          1|            0|          0|   N|                Y|  Poor sound quality|I was hoping it w...| 2015-08-31|\n",
            "|         US|   27314089|R1KSU30XZGR452|B00FBRUSAE|     792472601|Sawtooth ST-AMP-1...|Musical Instruments|          5|            0|          0|   N|                Y|Perfect for the b...|Good sound for it...| 2015-08-31|\n",
            "|         US|   16735445|R2TZVLLTSHA07N|B0113D2QUO|     269114019|Upado Unlimited G...|Musical Instruments|          5|            1|          1|   N|                Y|It really is a mu...|Wow! I didn't exp...| 2015-08-31|\n",
            "|         US|   27253061|R3KZ28CSDS9MGN|B00923H7MA|     224290640|Korg Instrument T...|Musical Instruments|          5|            0|          0|   N|                Y|          Five Stars|Great product, fa...| 2015-08-31|\n",
            "|         US|   48885952|R2EFSVA4ZDWLN4|B00CPFA0TE|     567273591|DiMMYS (Tinted & ...|Musical Instruments|          5|            2|          2|   N|                Y|Perfect for what ...|I needed to dim t...| 2015-08-31|\n",
            "|         US|     163404|R31OIOD3CP2FB1|B00I03OHHQ|     632342569|Musiclily Set of ...|Musical Instruments|          4|            0|          0|   N|                Y|          Four Stars|Fit my cheep over...| 2015-08-31|\n",
            "|         US|   10281700|R1EPGPK802HBSK|B004GH8QTA|     479095620|Meinl Standard Ca...|Musical Instruments|          5|            0|          0|   N|                Y|           good fit.|Fits great just a...| 2015-08-31|\n",
            "|         US|   35677607| RJIPC1X7LJ1RF|B003BLOSDU|     190608665|SKB Acoustic Guit...|Musical Instruments|          5|            0|          0|   N|                Y|perfect for throw...|Exactly what I ne...| 2015-08-31|\n",
            "|         US|   48351301| RXFHC5IFO5BET|B004QJREXM|     537707787|Audio-Technica AT...|Musical Instruments|          5|            0|          0|   N|                Y|   Why Read? Buy it!|For the price- wa...| 2015-08-31|\n",
            "|         US|   15791508|R1PSW5Q2ZI7JPR|B00HSUFBT0|     157365090|Woodi Soprano Rec...|Musical Instruments|          5|            0|          0|   N|                Y|      Woodi recorder|Nice soprano for ...| 2015-08-31|\n",
            "|         US|   13341038| RI6D52OHNYO87|B00282RE8O|     957368930|Rhythm Band RB213...|Musical Instruments|          5|            0|          0|   N|                Y|          Five Stars|Great little set ...| 2015-08-31|\n",
            "|         US|   15365576|R2243Y3OD8U6KQ|B00W1RTVGO|     160618734|Supertech stage l...|Musical Instruments|          5|           47|         61|   N|                N|This fills a room...|I am always looki...| 2015-08-31|\n",
            "|         US|   23887407|R2GPVNRM9FUTW0|B00CMOGGBY|     201886488|HQRP AC Adapter f...|Musical Instruments|          5|            0|          0|   N|                Y|  Satisfied Customer|         Works fine.| 2015-08-31|\n",
            "|         US|   52773705| RJ6YBGYWWOCZL|B004OA6JTS|     862512049|Tascam RC3F 3 Way...|Musical Instruments|          5|            0|          0|   N|                Y|       Unable to Use|I gave this five ...| 2015-08-31|\n",
            "|         US|   41860316| RL50SZFXKRN9Q|B004XNK7AI|     486980785|               Snark|Musical Instruments|          5|            0|          0|   N|                Y|          Five Stars|    Very easy to use| 2015-08-31|\n",
            "|         US|    8806782| RJMIT0E07KV7O|B004NMQ2A8|     355337413|Alesis PercPad Co...|Musical Instruments|          5|            0|          0|   N|                Y|          Five Stars|Great addition fo...| 2015-08-31|\n",
            "|         US|   18671079|R13AW8Z4UAW5GZ|B00074B67A|     324897713|Levy's Leathers M...|Musical Instruments|          5|            0|          0|   N|                Y|Perfect for my Li...|Works as advertis...| 2015-08-31|\n",
            "|         US|    7341516|R2B6GXRIOTPE1I|B00A9I706U|     690799885|Sennheiser E 835 ...|Musical Instruments|          5|            0|          1|   N|                Y|          Five Stars|       GREAT QUALITY| 2015-08-31|\n",
            "|         US|   45634735| R1EKCJCQOOT10|B003LPTAYI|     175592866|Sennheiser HD 202...|Musical Instruments|          5|            0|          0|   N|                Y|          Five Stars|  Gift. I don't know| 2015-08-31|\n",
            "|         US|   45907701| RUPNDVAV1ESYP|B003VWJ2K8|     195373332|    Snark SN-1 Tuner|Musical Instruments|          1|            0|          0|   N|                Y|It works well whi...|It works well whi...| 2015-08-31|\n",
            "|         US|   14738423| RDVKBIQJA4QC1|B003VWJ2K8|     195373332|    Snark SN-1 Tuner|Musical Instruments|          5|            0|          0|   N|                Y|Just what I was l...|I needed a tuner ...| 2015-08-31|\n",
            "|         US|   19839906|R186GQHUT0XB8Y|B00AK7SKL4|     108793804|Neewer Broadcast ...|Musical Instruments|          5|            0|          0|   N|                Y|but great build q...|A bit tiny, but g...| 2015-08-31|\n",
            "|         US|   49167506| RRP8EZ83V19SX|B000EEJKSA|      78875009|String Swing CC08...|Musical Instruments|          5|            0|          0|   N|                Y|   She just love it!|It's really helpf...| 2015-08-31|\n",
            "|         US|   10966525|R3DMITMQKN72XW|B002C4SM5W|     136317600|Alesis DM6 USB Ki...|Musical Instruments|          1|            0|          0|   N|                Y|      DON'T Buy This|Really bad. Bough...| 2015-08-31|\n",
            "|         US|   21052640|R3CWA176X3NQFI|B00KS7UEA6|     588589597|10 PACK 25 Foot 3...|Musical Instruments|          5|            0|          0|   N|                Y|          Five Stars|                Nice| 2015-08-31|\n",
            "|         US|    8746865|R3QZ914CIV184O|B00K72ESYU|      70657585|Excelvan BM-700 C...|Musical Instruments|          4|            0|          0|   N|                Y|          Four Stars|nice Microphone. ...| 2015-08-31|\n",
            "|         US|   48156885| RZKKBS6QGHU1E|B005LYUTWY|     390788610|Joyo JA-01 Mini A...|Musical Instruments|          4|            0|          0|   N|                Y|You get what you ...|It does what it's...| 2015-08-31|\n",
            "|         US|   43618362|R1BLON1O1WKBQP|B009C32CKM|     676484896|Acoustic Guitar B...|Musical Instruments|          5|            0|          0|   N|                Y|          Five Stars|           love them| 2015-08-31|\n",
            "|         US|   19273459|R1G8LGJMUY210N|B00SNBCBGE|     170085695|ION Audio Tailgat...|Musical Instruments|          5|            1|          2|   N|                Y|          Five Stars|great little box ...| 2015-08-31|\n",
            "|         US|   13032086| RQUZHB9KARAAG|B0062RBR84|     476133541|HitLights LED PCB...|Musical Instruments|          4|            0|          0|   N|                Y|        No Problems.|Works great, gave...| 2015-08-31|\n",
            "|         US|    8568818|R37J2YQ4RJ6WPB|B001RJA0EE|     979058912|Gator G-PG ACOUST...|Musical Instruments|          5|            0|          0|   N|                Y|          Five Stars|   Husband loves it!| 2015-08-31|\n",
            "|         US|   20672612| R6OMNRCSWY3LQ|B002SPRDGO|     329187314|Stagg GDC-6 Unive...|Musical Instruments|          4|            0|          0|   N|                Y|It does what it's...|It does it's job ...| 2015-08-31|\n",
            "|         US|   31129756|R1QAINGJUT77C3|B00VK5D67S|     943978060|Clip on Tuner for...|Musical Instruments|          5|            0|          0|   N|                Y|   Tuning Simplified|Not sure how I go...| 2015-08-31|\n",
            "+-----------+-----------+--------------+----------+--------------+--------------------+-------------------+-----------+-------------+-----------+----+-----------------+--------------------+--------------------+-----------+\n",
            "only showing top 50 rows\n",
            "\n"
          ]
        }
      ],
      "source": [
        "# Read in the data from an S3 Bucket\n",
        "from pyspark import SparkFiles\n",
        "url=\"https://big-data-etl.s3.us-east-2.amazonaws.com/amazon_reviews_us_Musical_Instruments_v1_00.tsv.gz\" \n",
        "\n",
        "spark.sparkContext.addFile(url)\n",
        "user_reviews_df = spark.read.csv(SparkFiles.get(\"amazon_reviews_us_Musical_Instruments_v1_00.tsv.gz\"), sep=\"\\t\", header=True, inferSchema=True)\n",
        "\n",
        "\n",
        "# Show DataFrame\n",
        "user_reviews_df.show(50)\n"
      ]
    },
    {
      "cell_type": "code",
      "execution_count": 5,
      "metadata": {
        "colab": {
          "base_uri": "https://localhost:8080/"
        },
        "id": "Cayz-3Q52IM3",
        "outputId": "a30c5258-0dcc-4388-d423-f35d1606d533"
      },
      "outputs": [
        {
          "output_type": "stream",
          "name": "stdout",
          "text": [
            "904765\n"
          ]
        }
      ],
      "source": [
        "# Get the number of rows in the DataFrame.\n",
        "print(user_reviews_df.count())"
      ]
    },
    {
      "cell_type": "code",
      "source": [
        "vine_reviews_df = user_reviews_df.filter(user_reviews_df.vine == 'Y')\n",
        "vine_reviews_df.show()"
      ],
      "metadata": {
        "colab": {
          "base_uri": "https://localhost:8080/"
        },
        "id": "Q9rg6hrE6xBa",
        "outputId": "3713c791-3cd8-4b93-e998-12d4fda080ae"
      },
      "execution_count": 6,
      "outputs": [
        {
          "output_type": "stream",
          "name": "stdout",
          "text": [
            "+-----------+-----------+--------------+----------+--------------+--------------------+-------------------+-----------+-------------+-----------+----+-----------------+--------------------+--------------------+-----------+\n",
            "|marketplace|customer_id|     review_id|product_id|product_parent|       product_title|   product_category|star_rating|helpful_votes|total_votes|vine|verified_purchase|     review_headline|         review_body|review_date|\n",
            "+-----------+-----------+--------------+----------+--------------+--------------------+-------------------+-----------+-------------+-----------+----+-----------------+--------------------+--------------------+-----------+\n",
            "|         US|   25575022| RCRKN2GJFD3ID|B00S2VVTP4|     489028362|Ernie Ball Regula...|Musical Instruments|          5|            0|          0|   Y|                N|Smooth Sound Quality|Smooth sound qual...| 2015-08-31|\n",
            "|         US|   52752518|R1IVB6FXFEKM6X|B00ZU4G0ZK|     499223759|TC Electronic Pol...|Musical Instruments|          4|            0|          0|   Y|                N|Not perfect but v...|I have relied on ...| 2015-08-31|\n",
            "|         US|   27769608|R1MESKI5XK08OC|B00YRKPB3K|     219663516|D'Addario Reserve...|Musical Instruments|          5|            2|          3|   Y|                N|A good reed, that...|Clarinet and saxo...| 2015-08-31|\n",
            "|         US|   42869594|R2MLNWOLUKXFGU|B00S2VVTP4|     489028362|Ernie Ball Regula...|Musical Instruments|          5|            1|          1|   Y|                N|Surprisingly Good...|I put this set of...| 2015-08-31|\n",
            "|         US|   28322689|R3SLEAPFDAIVJD|B00SFMMQPC|     464111842|CAD Audio D38X3 P...|Musical Instruments|          5|            1|          2|   Y|                N|Work very well at...|This value set of...| 2015-08-31|\n",
            "|         US|   51060740| RC5RADF6WEMZN|B00K2U365Y|     317001509|CAD Audio MH320 C...|Musical Instruments|          4|            0|          0|   Y|                N|Brings back memories|These headphones ...| 2015-08-31|\n",
            "|         US|   50162187| R65JKJ6FWCBKI|B00YRKPB3K|     219663516|D'Addario Reserve...|Musical Instruments|          5|            1|          2|   Y|                N|             play on|When I started pl...| 2015-08-31|\n",
            "|         US|   27847324| RLJUVX9TKXPZE|B00ZU4G0ZK|     499223759|TC Electronic Pol...|Musical Instruments|          3|            0|          1|   Y|                N|TC Electronic Pol...|I have taught cla...| 2015-08-31|\n",
            "|         US|   52679813|R1S1ECZN6QRE9W|B00KBMAJU8|     840979722|            AudioBox|Musical Instruments|          5|            5|          5|   Y|                N|Good option for p...|This is definitel...| 2015-08-30|\n",
            "|         US|   36241300|R311RCXT4FLCXV|B00SFMMQUC|     791649965|CAD Audio U39 USB...|Musical Instruments|          2|            0|          1|   Y|                N|Decently built mi...|I had high hopes ...| 2015-08-30|\n",
            "|         US|   51264115|R13V79M3QP894Y|B00ZU4G0ZK|     499223759|TC Electronic Pol...|Musical Instruments|          5|            0|          0|   Y|                N|Bright accurate t...|I've collected a ...| 2015-08-30|\n",
            "|         US|   29182364|R3HSV00TV8ZVIQ|B00KBMAJU8|     840979722|            AudioBox|Musical Instruments|          4|           14|         15|   Y|                N|    Pretty impressed|After almost two ...| 2015-08-30|\n",
            "|         US|   53081110| RZ7ZBW65VUQ29|B00SFMMQQ6|     386227027|CAD Audio D90 Pre...|Musical Instruments|          5|            0|          0|   Y|                N|Well-built solid ...|This moderately-p...| 2015-08-30|\n",
            "|         US|   36492211| R9HEZM8VL7CGX|B00YRKPB3K|     219663516|D'Addario Reserve...|Musical Instruments|          4|            2|          3|   Y|                N|       Hold up well.|If you even play ...| 2015-08-30|\n",
            "|         US|   32479799|R2BKYUTINKB50J|B00RBQV2XK|     305411654|Mackie FREEPLAY -...|Musical Instruments|          5|           10|         11|   Y|                N|Fantastic sound a...|This PA system is...| 2015-08-29|\n",
            "|         US|   52224246| R8VGCE136PO4Q|B00KBMAJU8|     840979722|            AudioBox|Musical Instruments|          5|            1|          1|   Y|                N|Good interface bo...|I've been playing...| 2015-08-28|\n",
            "|         US|   50740412| R9JMKEO2GQ151|B00KBMAJU8|     840979722|            AudioBox|Musical Instruments|          5|            0|          0|   Y|                N|From your Creativ...|I picked up this ...| 2015-08-28|\n",
            "|         US|   38409053|R104E1IFINZRCZ|B00YRKPB3K|     219663516|D'Addario Reserve...|Musical Instruments|          5|            1|          2|   Y|                N|Great quality for...|My daughter plays...| 2015-08-28|\n",
            "|         US|   52681722|R2EHKG3PNT3LX5|B00RBQV2XK|     305411654|Mackie FREEPLAY -...|Musical Instruments|          5|            4|          6|   Y|                N|Great sound and a...|Mackie is a very ...| 2015-08-27|\n",
            "|         US|   51747304|R2ISA9U5H62QPI|B011QVG9L0|     513044724|Promark Glenn Kot...|Musical Instruments|          5|            2|          4|   Y|                N|A nice pair of dr...|These drum sticks...| 2015-08-27|\n",
            "+-----------+-----------+--------------+----------+--------------+--------------------+-------------------+-----------+-------------+-----------+----+-----------------+--------------------+--------------------+-----------+\n",
            "only showing top 20 rows\n",
            "\n"
          ]
        }
      ]
    },
    {
      "cell_type": "code",
      "source": [
        "print(vine_reviews_df.count())"
      ],
      "metadata": {
        "colab": {
          "base_uri": "https://localhost:8080/"
        },
        "id": "_1CekPac9f36",
        "outputId": "cebbc231-07fa-4b33-a816-71cd1fc7e605"
      },
      "execution_count": 7,
      "outputs": [
        {
          "output_type": "stream",
          "name": "stdout",
          "text": [
            "2287\n"
          ]
        }
      ]
    },
    {
      "cell_type": "code",
      "source": [
        "vine_reviews_df = vine_reviews_df.dropna()"
      ],
      "metadata": {
        "id": "_-E2zzfa-qO_"
      },
      "execution_count": 8,
      "outputs": []
    },
    {
      "cell_type": "code",
      "source": [
        "print(vine_reviews_df.count())"
      ],
      "metadata": {
        "colab": {
          "base_uri": "https://localhost:8080/"
        },
        "id": "BpZRxfsG-vc4",
        "outputId": "4f05e12f-2725-41eb-8e23-424cdb1b3b21"
      },
      "execution_count": 9,
      "outputs": [
        {
          "output_type": "stream",
          "name": "stdout",
          "text": [
            "2287\n"
          ]
        }
      ]
    },
    {
      "cell_type": "code",
      "source": [
        "from pyspark.sql import SparkSession\n",
        "spark = SparkSession.builder.appName(\"UDF\").getOrCreate()"
      ],
      "metadata": {
        "id": "7kvDYOpfB0Ip"
      },
      "execution_count": 10,
      "outputs": []
    },
    {
      "cell_type": "code",
      "source": [
        "from pyspark.ml.feature import Tokenizer\n",
        "from pyspark.sql.functions import col, udf\n",
        "from pyspark.sql.types import IntegerType"
      ],
      "metadata": {
        "id": "uvehT-vJCASv"
      },
      "execution_count": 11,
      "outputs": []
    },
    {
      "cell_type": "code",
      "source": [
        "tokenizer = Tokenizer(inputCol=\"review_body\", outputCol=\"words\")\n",
        "tokenizer"
      ],
      "metadata": {
        "colab": {
          "base_uri": "https://localhost:8080/"
        },
        "id": "UsBV9jHUCEgy",
        "outputId": "c6f2ae17-e31a-4d03-bebb-f66066c3e25e"
      },
      "execution_count": 12,
      "outputs": [
        {
          "output_type": "execute_result",
          "data": {
            "text/plain": [
              "Tokenizer_cab5b2528a9f"
            ]
          },
          "metadata": {},
          "execution_count": 12
        }
      ]
    },
    {
      "cell_type": "code",
      "source": [
        "def word_list_length(word_list):\n",
        "    return len(word_list)"
      ],
      "metadata": {
        "id": "gak0tuAxCKhc"
      },
      "execution_count": 13,
      "outputs": []
    },
    {
      "cell_type": "code",
      "source": [
        "count_tokens = udf(word_list_length, IntegerType())\n",
        "count_tokens"
      ],
      "metadata": {
        "colab": {
          "base_uri": "https://localhost:8080/"
        },
        "id": "QgHZ4pYkCVU7",
        "outputId": "02162d2f-08ff-4e6e-a73a-68e631abf378"
      },
      "execution_count": 14,
      "outputs": [
        {
          "output_type": "execute_result",
          "data": {
            "text/plain": [
              "<function __main__.word_list_length(word_list)>"
            ]
          },
          "metadata": {},
          "execution_count": 14
        }
      ]
    },
    {
      "cell_type": "code",
      "source": [
        "# Transform DataFrame\n",
        "vine_reviews_df = tokenizer.transform(vine_reviews_df)\n",
        "vine_reviews_df.show()"
      ],
      "metadata": {
        "colab": {
          "base_uri": "https://localhost:8080/"
        },
        "id": "8Du4Z5k3vvQW",
        "outputId": "bb69fba8-382a-40d9-8a65-e3ad6831e9e0"
      },
      "execution_count": 15,
      "outputs": [
        {
          "output_type": "stream",
          "name": "stdout",
          "text": [
            "+-----------+-----------+--------------+----------+--------------+--------------------+-------------------+-----------+-------------+-----------+----+-----------------+--------------------+--------------------+-----------+--------------------+\n",
            "|marketplace|customer_id|     review_id|product_id|product_parent|       product_title|   product_category|star_rating|helpful_votes|total_votes|vine|verified_purchase|     review_headline|         review_body|review_date|               words|\n",
            "+-----------+-----------+--------------+----------+--------------+--------------------+-------------------+-----------+-------------+-----------+----+-----------------+--------------------+--------------------+-----------+--------------------+\n",
            "|         US|   25575022| RCRKN2GJFD3ID|B00S2VVTP4|     489028362|Ernie Ball Regula...|Musical Instruments|          5|            0|          0|   Y|                N|Smooth Sound Quality|Smooth sound qual...| 2015-08-31|[smooth, sound, q...|\n",
            "|         US|   52752518|R1IVB6FXFEKM6X|B00ZU4G0ZK|     499223759|TC Electronic Pol...|Musical Instruments|          4|            0|          0|   Y|                N|Not perfect but v...|I have relied on ...| 2015-08-31|[i, have, relied,...|\n",
            "|         US|   27769608|R1MESKI5XK08OC|B00YRKPB3K|     219663516|D'Addario Reserve...|Musical Instruments|          5|            2|          3|   Y|                N|A good reed, that...|Clarinet and saxo...| 2015-08-31|[clarinet, and, s...|\n",
            "|         US|   42869594|R2MLNWOLUKXFGU|B00S2VVTP4|     489028362|Ernie Ball Regula...|Musical Instruments|          5|            1|          1|   Y|                N|Surprisingly Good...|I put this set of...| 2015-08-31|[i, put, this, se...|\n",
            "|         US|   28322689|R3SLEAPFDAIVJD|B00SFMMQPC|     464111842|CAD Audio D38X3 P...|Musical Instruments|          5|            1|          2|   Y|                N|Work very well at...|This value set of...| 2015-08-31|[this, value, set...|\n",
            "|         US|   51060740| RC5RADF6WEMZN|B00K2U365Y|     317001509|CAD Audio MH320 C...|Musical Instruments|          4|            0|          0|   Y|                N|Brings back memories|These headphones ...| 2015-08-31|[these, headphone...|\n",
            "|         US|   50162187| R65JKJ6FWCBKI|B00YRKPB3K|     219663516|D'Addario Reserve...|Musical Instruments|          5|            1|          2|   Y|                N|             play on|When I started pl...| 2015-08-31|[when, i, started...|\n",
            "|         US|   27847324| RLJUVX9TKXPZE|B00ZU4G0ZK|     499223759|TC Electronic Pol...|Musical Instruments|          3|            0|          1|   Y|                N|TC Electronic Pol...|I have taught cla...| 2015-08-31|[i, have, taught,...|\n",
            "|         US|   52679813|R1S1ECZN6QRE9W|B00KBMAJU8|     840979722|            AudioBox|Musical Instruments|          5|            5|          5|   Y|                N|Good option for p...|This is definitel...| 2015-08-30|[this, is, defini...|\n",
            "|         US|   36241300|R311RCXT4FLCXV|B00SFMMQUC|     791649965|CAD Audio U39 USB...|Musical Instruments|          2|            0|          1|   Y|                N|Decently built mi...|I had high hopes ...| 2015-08-30|[i, had, high, ho...|\n",
            "|         US|   51264115|R13V79M3QP894Y|B00ZU4G0ZK|     499223759|TC Electronic Pol...|Musical Instruments|          5|            0|          0|   Y|                N|Bright accurate t...|I've collected a ...| 2015-08-30|[i've, collected,...|\n",
            "|         US|   29182364|R3HSV00TV8ZVIQ|B00KBMAJU8|     840979722|            AudioBox|Musical Instruments|          4|           14|         15|   Y|                N|    Pretty impressed|After almost two ...| 2015-08-30|[after, almost, t...|\n",
            "|         US|   53081110| RZ7ZBW65VUQ29|B00SFMMQQ6|     386227027|CAD Audio D90 Pre...|Musical Instruments|          5|            0|          0|   Y|                N|Well-built solid ...|This moderately-p...| 2015-08-30|[this, moderately...|\n",
            "|         US|   36492211| R9HEZM8VL7CGX|B00YRKPB3K|     219663516|D'Addario Reserve...|Musical Instruments|          4|            2|          3|   Y|                N|       Hold up well.|If you even play ...| 2015-08-30|[if, you, even, p...|\n",
            "|         US|   32479799|R2BKYUTINKB50J|B00RBQV2XK|     305411654|Mackie FREEPLAY -...|Musical Instruments|          5|           10|         11|   Y|                N|Fantastic sound a...|This PA system is...| 2015-08-29|[this, pa, system...|\n",
            "|         US|   52224246| R8VGCE136PO4Q|B00KBMAJU8|     840979722|            AudioBox|Musical Instruments|          5|            1|          1|   Y|                N|Good interface bo...|I've been playing...| 2015-08-28|[i've, been, play...|\n",
            "|         US|   50740412| R9JMKEO2GQ151|B00KBMAJU8|     840979722|            AudioBox|Musical Instruments|          5|            0|          0|   Y|                N|From your Creativ...|I picked up this ...| 2015-08-28|[i, picked, up, t...|\n",
            "|         US|   38409053|R104E1IFINZRCZ|B00YRKPB3K|     219663516|D'Addario Reserve...|Musical Instruments|          5|            1|          2|   Y|                N|Great quality for...|My daughter plays...| 2015-08-28|[my, daughter, pl...|\n",
            "|         US|   52681722|R2EHKG3PNT3LX5|B00RBQV2XK|     305411654|Mackie FREEPLAY -...|Musical Instruments|          5|            4|          6|   Y|                N|Great sound and a...|Mackie is a very ...| 2015-08-27|[mackie, is, a, v...|\n",
            "|         US|   51747304|R2ISA9U5H62QPI|B011QVG9L0|     513044724|Promark Glenn Kot...|Musical Instruments|          5|            2|          4|   Y|                N|A nice pair of dr...|These drum sticks...| 2015-08-27|[these, drum, sti...|\n",
            "+-----------+-----------+--------------+----------+--------------+--------------------+-------------------+-----------+-------------+-----------+----+-----------------+--------------------+--------------------+-----------+--------------------+\n",
            "only showing top 20 rows\n",
            "\n"
          ]
        }
      ]
    },
    {
      "cell_type": "code",
      "source": [
        "\n",
        "# Select the needed columns and don't truncate results\n",
        "# vine_reviews_df.select(\"review_headline\", \"words\")\n",
        "vine_reviews_df = vine_reviews_df.withColumn(\"tokens\", count_tokens(col(\"words\")))\n",
        "vine_reviews_df.show()\n",
        "\n",
        "\n",
        "\n"
      ],
      "metadata": {
        "colab": {
          "base_uri": "https://localhost:8080/"
        },
        "id": "GYAJSHoeCbWA",
        "outputId": "6110909f-e4fd-406f-996a-62da192417f9"
      },
      "execution_count": 16,
      "outputs": [
        {
          "output_type": "stream",
          "name": "stdout",
          "text": [
            "+-----------+-----------+--------------+----------+--------------+--------------------+-------------------+-----------+-------------+-----------+----+-----------------+--------------------+--------------------+-----------+--------------------+------+\n",
            "|marketplace|customer_id|     review_id|product_id|product_parent|       product_title|   product_category|star_rating|helpful_votes|total_votes|vine|verified_purchase|     review_headline|         review_body|review_date|               words|tokens|\n",
            "+-----------+-----------+--------------+----------+--------------+--------------------+-------------------+-----------+-------------+-----------+----+-----------------+--------------------+--------------------+-----------+--------------------+------+\n",
            "|         US|   25575022| RCRKN2GJFD3ID|B00S2VVTP4|     489028362|Ernie Ball Regula...|Musical Instruments|          5|            0|          0|   Y|                N|Smooth Sound Quality|Smooth sound qual...| 2015-08-31|[smooth, sound, q...|    10|\n",
            "|         US|   52752518|R1IVB6FXFEKM6X|B00ZU4G0ZK|     499223759|TC Electronic Pol...|Musical Instruments|          4|            0|          0|   Y|                N|Not perfect but v...|I have relied on ...| 2015-08-31|[i, have, relied,...|   139|\n",
            "|         US|   27769608|R1MESKI5XK08OC|B00YRKPB3K|     219663516|D'Addario Reserve...|Musical Instruments|          5|            2|          3|   Y|                N|A good reed, that...|Clarinet and saxo...| 2015-08-31|[clarinet, and, s...|    77|\n",
            "|         US|   42869594|R2MLNWOLUKXFGU|B00S2VVTP4|     489028362|Ernie Ball Regula...|Musical Instruments|          5|            1|          1|   Y|                N|Surprisingly Good...|I put this set of...| 2015-08-31|[i, put, this, se...|   161|\n",
            "|         US|   28322689|R3SLEAPFDAIVJD|B00SFMMQPC|     464111842|CAD Audio D38X3 P...|Musical Instruments|          5|            1|          2|   Y|                N|Work very well at...|This value set of...| 2015-08-31|[this, value, set...|    49|\n",
            "|         US|   51060740| RC5RADF6WEMZN|B00K2U365Y|     317001509|CAD Audio MH320 C...|Musical Instruments|          4|            0|          0|   Y|                N|Brings back memories|These headphones ...| 2015-08-31|[these, headphone...|   251|\n",
            "|         US|   50162187| R65JKJ6FWCBKI|B00YRKPB3K|     219663516|D'Addario Reserve...|Musical Instruments|          5|            1|          2|   Y|                N|             play on|When I started pl...| 2015-08-31|[when, i, started...|   114|\n",
            "|         US|   27847324| RLJUVX9TKXPZE|B00ZU4G0ZK|     499223759|TC Electronic Pol...|Musical Instruments|          3|            0|          1|   Y|                N|TC Electronic Pol...|I have taught cla...| 2015-08-31|[i, have, taught,...|   294|\n",
            "|         US|   52679813|R1S1ECZN6QRE9W|B00KBMAJU8|     840979722|            AudioBox|Musical Instruments|          5|            5|          5|   Y|                N|Good option for p...|This is definitel...| 2015-08-30|[this, is, defini...|   851|\n",
            "|         US|   36241300|R311RCXT4FLCXV|B00SFMMQUC|     791649965|CAD Audio U39 USB...|Musical Instruments|          2|            0|          1|   Y|                N|Decently built mi...|I had high hopes ...| 2015-08-30|[i, had, high, ho...|   506|\n",
            "|         US|   51264115|R13V79M3QP894Y|B00ZU4G0ZK|     499223759|TC Electronic Pol...|Musical Instruments|          5|            0|          0|   Y|                N|Bright accurate t...|I've collected a ...| 2015-08-30|[i've, collected,...|   121|\n",
            "|         US|   29182364|R3HSV00TV8ZVIQ|B00KBMAJU8|     840979722|            AudioBox|Musical Instruments|          4|           14|         15|   Y|                N|    Pretty impressed|After almost two ...| 2015-08-30|[after, almost, t...|  1631|\n",
            "|         US|   53081110| RZ7ZBW65VUQ29|B00SFMMQQ6|     386227027|CAD Audio D90 Pre...|Musical Instruments|          5|            0|          0|   Y|                N|Well-built solid ...|This moderately-p...| 2015-08-30|[this, moderately...|    73|\n",
            "|         US|   36492211| R9HEZM8VL7CGX|B00YRKPB3K|     219663516|D'Addario Reserve...|Musical Instruments|          4|            2|          3|   Y|                N|       Hold up well.|If you even play ...| 2015-08-30|[if, you, even, p...|   139|\n",
            "|         US|   32479799|R2BKYUTINKB50J|B00RBQV2XK|     305411654|Mackie FREEPLAY -...|Musical Instruments|          5|           10|         11|   Y|                N|Fantastic sound a...|This PA system is...| 2015-08-29|[this, pa, system...|   313|\n",
            "|         US|   52224246| R8VGCE136PO4Q|B00KBMAJU8|     840979722|            AudioBox|Musical Instruments|          5|            1|          1|   Y|                N|Good interface bo...|I've been playing...| 2015-08-28|[i've, been, play...|   350|\n",
            "|         US|   50740412| R9JMKEO2GQ151|B00KBMAJU8|     840979722|            AudioBox|Musical Instruments|          5|            0|          0|   Y|                N|From your Creativ...|I picked up this ...| 2015-08-28|[i, picked, up, t...|    89|\n",
            "|         US|   38409053|R104E1IFINZRCZ|B00YRKPB3K|     219663516|D'Addario Reserve...|Musical Instruments|          5|            1|          2|   Y|                N|Great quality for...|My daughter plays...| 2015-08-28|[my, daughter, pl...|    54|\n",
            "|         US|   52681722|R2EHKG3PNT3LX5|B00RBQV2XK|     305411654|Mackie FREEPLAY -...|Musical Instruments|          5|            4|          6|   Y|                N|Great sound and a...|Mackie is a very ...| 2015-08-27|[mackie, is, a, v...|  1681|\n",
            "|         US|   51747304|R2ISA9U5H62QPI|B011QVG9L0|     513044724|Promark Glenn Kot...|Musical Instruments|          5|            2|          4|   Y|                N|A nice pair of dr...|These drum sticks...| 2015-08-27|[these, drum, sti...|    56|\n",
            "+-----------+-----------+--------------+----------+--------------+--------------------+-------------------+-----------+-------------+-----------+----+-----------------+--------------------+--------------------+-----------+--------------------+------+\n",
            "only showing top 20 rows\n",
            "\n"
          ]
        }
      ]
    },
    {
      "cell_type": "code",
      "source": [
        "vine_reviews_df = vine_reviews_df.filter(vine_reviews_df.tokens >10)\n",
        "print(vine_reviews_df.count())"
      ],
      "metadata": {
        "colab": {
          "base_uri": "https://localhost:8080/"
        },
        "id": "yjJVlU55RaK5",
        "outputId": "d0e0fd4b-d8f7-45ac-8d1e-aafefeeacde7"
      },
      "execution_count": 17,
      "outputs": [
        {
          "output_type": "stream",
          "name": "stdout",
          "text": [
            "2284\n"
          ]
        }
      ]
    },
    {
      "cell_type": "code",
      "source": [
        "vine_reviews_df.filter(vine_reviews_df.tokens < 20).show()"
      ],
      "metadata": {
        "colab": {
          "base_uri": "https://localhost:8080/"
        },
        "id": "5CMhffl6RvVT",
        "outputId": "7a00d00a-e909-483e-b8f0-3cb637864573"
      },
      "execution_count": 18,
      "outputs": [
        {
          "output_type": "stream",
          "name": "stdout",
          "text": [
            "+-----------+-----------+--------------+----------+--------------+--------------------+-------------------+-----------+-------------+-----------+----+-----------------+--------------------+--------------------+-----------+--------------------+------+\n",
            "|marketplace|customer_id|     review_id|product_id|product_parent|       product_title|   product_category|star_rating|helpful_votes|total_votes|vine|verified_purchase|     review_headline|         review_body|review_date|               words|tokens|\n",
            "+-----------+-----------+--------------+----------+--------------+--------------------+-------------------+-----------+-------------+-----------+----+-----------------+--------------------+--------------------+-----------+--------------------+------+\n",
            "|         US|   46877221|R13JRKZHUTADKJ|B007KC7IAG|     120573562|Ernie Ball Slinky...|Musical Instruments|          5|            0|          0|   Y|                N|Highly recommende...|These produce a g...| 2015-08-13|[these, produce, ...|    14|\n",
            "|         US|   50685770|R1Y6YGALSOXJF9|B00VUU6JD6|     579522025|Elixir Strings Ni...|Musical Instruments|          5|            0|          0|   Y|                N|          Five Stars|Lovely warm tone ...| 2015-07-26|[lovely, warm, to...|    18|\n",
            "|         US|   10465789|R2RHACI4A29OY6|B00VUU6JD6|     579522025|Elixir Strings Ni...|Musical Instruments|          5|            0|          0|   Y|                N|    Best of the best|Awesome grip. You...| 2015-07-22|[awesome, grip., ...|    15|\n",
            "|         US|   10465789|R1GMZDMCCGD0KB|B0002E1O6I|     579522025|Elixir Strings Ni...|Musical Instruments|          5|            0|          0|   Y|                N|        Perfect grip|Awesome grip. You...| 2015-07-22|[awesome, grip., ...|    15|\n",
            "|         US|   10465789|R1CBAV2G7J3UX4|B00VUU6JL8|     165546640|Elixir® Strings S...|Musical Instruments|          5|            0|          0|   Y|                N|   Worth every penny|Awesome grip. You...| 2015-07-22|[awesome, grip., ...|    15|\n",
            "|         US|   53058739|R1XB27NKWVOGHE|B00VUU6JD6|     579522025|Elixir Strings Ni...|Musical Instruments|          5|            1|          1|   Y|                N|An outstanding ch...|Some of the best ...| 2015-07-17|[some, of, the, b...|    14|\n",
            "|         US|   53058739|R33V7N8QR4ZXN8|B00VUU6JDQ|     165546640|Elixir® Strings S...|Musical Instruments|          5|            0|          0|   Y|                N|       Great strings|Awesome bass guit...| 2015-07-17|[awesome, bass, g...|    12|\n",
            "|         US|   51941990|R2EJ4U382QXOYJ|B00VUU6JD6|     579522025|Elixir Strings Ni...|Musical Instruments|          1|            0|          0|   Y|                N|Too Short for Fen...|The B-string's he...| 2015-06-30|[the, b-string's,...|    11|\n",
            "|         US|   51284509|R13KL03EBFHH3C|B000BW2D84|     991570096|D'Addario DIY Sol...|Musical Instruments|          4|            0|          0|   Y|                N|         Pretty good|Pretty good. Not ...| 2015-05-29|[pretty, good., n...|    19|\n",
            "|         US|   51752625|R3MPICULGON1Q3|B00QXRH9Z8|     678104722|D'Addario EJ60NY ...|Musical Instruments|          5|            0|          1|   Y|                N|        Nice Strings|Haven't had a cha...| 2015-04-27|[haven't, had, a,...|    19|\n",
            "|         US|   45178953|R1CFU9V4VK1YDT|B00QXRH9Z8|     678104722|D'Addario EJ60NY ...|Musical Instruments|          5|            0|          1|   Y|                N|           good deal|good price  good ...| 2015-04-03|[good, price, , g...|    17|\n",
            "|         US|   51752625|R28UTNSI5P86SJ|B00QXF3XIM|      78026591|NS Artist Classic...|Musical Instruments|          5|            0|          0|   Y|                N|      Very Well Made|Very well made an...| 2015-03-11|[very, well, made...|    14|\n",
            "|         US|   48119622|R32URHFMK6WOTY|B003ZNU1M6|      82990469|PureSound Custom ...|Musical Instruments|          5|            0|          0|   Y|                N|this strand is ea...|Providing really ...| 2015-01-13|[providing, reall...|    12|\n",
            "|         US|   50794278| RAO6D0597QOCZ|B003ZNU1M6|      82990469|PureSound Custom ...|Musical Instruments|          5|            0|          0|   Y|                N|Sounds Good, Just...|Nothing fancy.  W...| 2015-01-07|[nothing, fancy.,...|    17|\n",
            "|         US|   24898691|R26HW3FVS0GSNQ|B001SN7V82|      25004092|H-Ligature & Cap,...|Musical Instruments|          5|            0|          0|   Y|                N| and sounds amazing.|This is a solid p...| 2015-01-07|[this, is, a, sol...|    15|\n",
            "|         US|   52933065| R8320JY7H2S0D|B006MPUY1C|     972361337|Planet Waves Cort...|Musical Instruments|          5|            0|          0|   Y|                N|Good for students...|Good feel, better...| 2014-12-11|[good, feel,, bet...|    19|\n",
            "|         US|   45178953|R3AIKJXUGCHUNY|B001SN7V82|      25004092|H-Ligature & Cap,...|Musical Instruments|          5|            0|          0|   Y|                N|very beautiful an...|it looks very nic...| 2014-12-11|[it, looks, very,...|    16|\n",
            "|         US|   51284509|R318BZBDAUUGJB|B00HFRXDRI|     571256453|Evans Heads EMAD ...|Musical Instruments|          5|            0|          1|   Y|                N|          Great head|This is a great h...| 2014-11-28|[this, is, a, gre...|    18|\n",
            "|         US|   39789300|R31SNZUCI301L9|B00JPSTV5I|     131979782|Ernie Ball Alumin...|Musical Instruments|          5|            0|          0|   Y|                N|Good quality guit...|These are long-la...| 2014-10-18|[these, are, long...|    16|\n",
            "|         US|   39789300|R32BWJY2Z9LLRH|B00JPSXCV2|     131979782|Ernie Ball Alumin...|Musical Instruments|          5|            0|          0|   Y|                N|Good quality guit...|These are long-la...| 2014-10-18|[these, are, long...|    16|\n",
            "+-----------+-----------+--------------+----------+--------------+--------------------+-------------------+-----------+-------------+-----------+----+-----------------+--------------------+--------------------+-----------+--------------------+------+\n",
            "only showing top 20 rows\n",
            "\n"
          ]
        }
      ]
    },
    {
      "cell_type": "code",
      "source": [
        "vine_helpful_votes_df = vine_reviews_df.filter(vine_reviews_df.helpful_votes != 0)\n",
        "vine_helpful_votes_df.show()"
      ],
      "metadata": {
        "colab": {
          "base_uri": "https://localhost:8080/"
        },
        "id": "B33CwJdcw9YS",
        "outputId": "158443e9-76d4-40f9-e2c8-761de8885e32"
      },
      "execution_count": 19,
      "outputs": [
        {
          "output_type": "stream",
          "name": "stdout",
          "text": [
            "+-----------+-----------+--------------+----------+--------------+--------------------+-------------------+-----------+-------------+-----------+----+-----------------+--------------------+--------------------+-----------+--------------------+------+\n",
            "|marketplace|customer_id|     review_id|product_id|product_parent|       product_title|   product_category|star_rating|helpful_votes|total_votes|vine|verified_purchase|     review_headline|         review_body|review_date|               words|tokens|\n",
            "+-----------+-----------+--------------+----------+--------------+--------------------+-------------------+-----------+-------------+-----------+----+-----------------+--------------------+--------------------+-----------+--------------------+------+\n",
            "|         US|   27769608|R1MESKI5XK08OC|B00YRKPB3K|     219663516|D'Addario Reserve...|Musical Instruments|          5|            2|          3|   Y|                N|A good reed, that...|Clarinet and saxo...| 2015-08-31|[clarinet, and, s...|    77|\n",
            "|         US|   42869594|R2MLNWOLUKXFGU|B00S2VVTP4|     489028362|Ernie Ball Regula...|Musical Instruments|          5|            1|          1|   Y|                N|Surprisingly Good...|I put this set of...| 2015-08-31|[i, put, this, se...|   161|\n",
            "|         US|   28322689|R3SLEAPFDAIVJD|B00SFMMQPC|     464111842|CAD Audio D38X3 P...|Musical Instruments|          5|            1|          2|   Y|                N|Work very well at...|This value set of...| 2015-08-31|[this, value, set...|    49|\n",
            "|         US|   50162187| R65JKJ6FWCBKI|B00YRKPB3K|     219663516|D'Addario Reserve...|Musical Instruments|          5|            1|          2|   Y|                N|             play on|When I started pl...| 2015-08-31|[when, i, started...|   114|\n",
            "|         US|   52679813|R1S1ECZN6QRE9W|B00KBMAJU8|     840979722|            AudioBox|Musical Instruments|          5|            5|          5|   Y|                N|Good option for p...|This is definitel...| 2015-08-30|[this, is, defini...|   851|\n",
            "|         US|   29182364|R3HSV00TV8ZVIQ|B00KBMAJU8|     840979722|            AudioBox|Musical Instruments|          4|           14|         15|   Y|                N|    Pretty impressed|After almost two ...| 2015-08-30|[after, almost, t...|  1631|\n",
            "|         US|   36492211| R9HEZM8VL7CGX|B00YRKPB3K|     219663516|D'Addario Reserve...|Musical Instruments|          4|            2|          3|   Y|                N|       Hold up well.|If you even play ...| 2015-08-30|[if, you, even, p...|   139|\n",
            "|         US|   32479799|R2BKYUTINKB50J|B00RBQV2XK|     305411654|Mackie FREEPLAY -...|Musical Instruments|          5|           10|         11|   Y|                N|Fantastic sound a...|This PA system is...| 2015-08-29|[this, pa, system...|   313|\n",
            "|         US|   52224246| R8VGCE136PO4Q|B00KBMAJU8|     840979722|            AudioBox|Musical Instruments|          5|            1|          1|   Y|                N|Good interface bo...|I've been playing...| 2015-08-28|[i've, been, play...|   350|\n",
            "|         US|   38409053|R104E1IFINZRCZ|B00YRKPB3K|     219663516|D'Addario Reserve...|Musical Instruments|          5|            1|          2|   Y|                N|Great quality for...|My daughter plays...| 2015-08-28|[my, daughter, pl...|    54|\n",
            "|         US|   52681722|R2EHKG3PNT3LX5|B00RBQV2XK|     305411654|Mackie FREEPLAY -...|Musical Instruments|          5|            4|          6|   Y|                N|Great sound and a...|Mackie is a very ...| 2015-08-27|[mackie, is, a, v...|  1681|\n",
            "|         US|   51747304|R2ISA9U5H62QPI|B011QVG9L0|     513044724|Promark Glenn Kot...|Musical Instruments|          5|            2|          4|   Y|                N|A nice pair of dr...|These drum sticks...| 2015-08-27|[these, drum, sti...|    56|\n",
            "|         US|   42689422|R1R9RU7JW0MFR2|B0124Y99PQ|     618027384|Casio CGP-700BK C...|Musical Instruments|          4|           20|         23|   Y|                N|Be prepared to be...|First off PLEASE ...| 2015-08-27|[first, off, plea...|   643|\n",
            "|         US|   52863557|R3Q8KGZCS8YTRU|B00RBQV2XK|     305411654|Mackie FREEPLAY -...|Musical Instruments|          2|            1|          2|   Y|                N|Did not perform a...|Mostly a disappoi...| 2015-08-25|[mostly, a, disap...|   173|\n",
            "|         US|   52374114|R2YW7YQ9C8RRUP|B00ZU4G0ZK|     499223759|TC Electronic Pol...|Musical Instruments|          5|            4|          5|   Y|                N|Nice electronic g...|I use the TC Elec...| 2015-08-25|[i, use, the, tc,...|    93|\n",
            "|         US|   27769608| RZY36FU4OH90C|B00KBMAJU8|     840979722|            AudioBox|Musical Instruments|          3|            5|          7|   Y|                N|Not bad, but not ...|First things firs...| 2015-08-25|[first, things, f...|   261|\n",
            "|         US|   49783616|R2YH5S36KHIW8I|B00K2U365Y|     317001509|CAD Audio MH320 C...|Musical Instruments|          5|            1|          1|   Y|                N|Great headphones ...|I use headphones ...| 2015-08-24|[i, use, headphon...|   125|\n",
            "|         US|   49980229|  RQ9DM7UPFZ0H|B0124Y99PQ|     618027384|Casio CGP-700BK C...|Musical Instruments|          5|            9|         13|   Y|                N|     Awesome so far.|My wife received ...| 2015-08-24|[my, wife, receiv...|   377|\n",
            "|         US|   51812418|R1IIKKH5JGHBXJ|B0019QJW2G|     725131531|Ernie Ball 4600 S...|Musical Instruments|          5|            1|          1|   Y|                N|          Ball Locks|I could live with...| 2015-08-24|[i, could, live, ...|    42|\n",
            "|         US|   49633579|R3ET4M5XHOBB9I|B0124Y99PQ|     618027384|Casio CGP-700BK C...|Musical Instruments|          5|            5|          9|   Y|                N|Amazing sound qua...|I am not a profes...| 2015-08-24|[i, am, not, a, p...|   441|\n",
            "+-----------+-----------+--------------+----------+--------------+--------------------+-------------------+-----------+-------------+-----------+----+-----------------+--------------------+--------------------+-----------+--------------------+------+\n",
            "only showing top 20 rows\n",
            "\n"
          ]
        }
      ]
    },
    {
      "cell_type": "code",
      "source": [
        "print(vine_helpful_votes_df.count())"
      ],
      "metadata": {
        "colab": {
          "base_uri": "https://localhost:8080/"
        },
        "id": "w3qtWO8wQ6jN",
        "outputId": "d7f2a964-c6e5-4d80-b751-5e62691ec73b"
      },
      "execution_count": 20,
      "outputs": [
        {
          "output_type": "stream",
          "name": "stdout",
          "text": [
            "1062\n"
          ]
        }
      ]
    },
    {
      "cell_type": "code",
      "source": [
        "vine_total_votes_df = vine_reviews_df.filter(vine_reviews_df.total_votes != 0)\n",
        "vine_total_votes_df.show()"
      ],
      "metadata": {
        "colab": {
          "base_uri": "https://localhost:8080/"
        },
        "id": "B57Bplff89cv",
        "outputId": "e7301dc9-d16e-4ce0-e68c-3ea254a85139"
      },
      "execution_count": 21,
      "outputs": [
        {
          "output_type": "stream",
          "name": "stdout",
          "text": [
            "+-----------+-----------+--------------+----------+--------------+--------------------+-------------------+-----------+-------------+-----------+----+-----------------+--------------------+--------------------+-----------+--------------------+------+\n",
            "|marketplace|customer_id|     review_id|product_id|product_parent|       product_title|   product_category|star_rating|helpful_votes|total_votes|vine|verified_purchase|     review_headline|         review_body|review_date|               words|tokens|\n",
            "+-----------+-----------+--------------+----------+--------------+--------------------+-------------------+-----------+-------------+-----------+----+-----------------+--------------------+--------------------+-----------+--------------------+------+\n",
            "|         US|   27769608|R1MESKI5XK08OC|B00YRKPB3K|     219663516|D'Addario Reserve...|Musical Instruments|          5|            2|          3|   Y|                N|A good reed, that...|Clarinet and saxo...| 2015-08-31|[clarinet, and, s...|    77|\n",
            "|         US|   42869594|R2MLNWOLUKXFGU|B00S2VVTP4|     489028362|Ernie Ball Regula...|Musical Instruments|          5|            1|          1|   Y|                N|Surprisingly Good...|I put this set of...| 2015-08-31|[i, put, this, se...|   161|\n",
            "|         US|   28322689|R3SLEAPFDAIVJD|B00SFMMQPC|     464111842|CAD Audio D38X3 P...|Musical Instruments|          5|            1|          2|   Y|                N|Work very well at...|This value set of...| 2015-08-31|[this, value, set...|    49|\n",
            "|         US|   50162187| R65JKJ6FWCBKI|B00YRKPB3K|     219663516|D'Addario Reserve...|Musical Instruments|          5|            1|          2|   Y|                N|             play on|When I started pl...| 2015-08-31|[when, i, started...|   114|\n",
            "|         US|   27847324| RLJUVX9TKXPZE|B00ZU4G0ZK|     499223759|TC Electronic Pol...|Musical Instruments|          3|            0|          1|   Y|                N|TC Electronic Pol...|I have taught cla...| 2015-08-31|[i, have, taught,...|   294|\n",
            "|         US|   52679813|R1S1ECZN6QRE9W|B00KBMAJU8|     840979722|            AudioBox|Musical Instruments|          5|            5|          5|   Y|                N|Good option for p...|This is definitel...| 2015-08-30|[this, is, defini...|   851|\n",
            "|         US|   36241300|R311RCXT4FLCXV|B00SFMMQUC|     791649965|CAD Audio U39 USB...|Musical Instruments|          2|            0|          1|   Y|                N|Decently built mi...|I had high hopes ...| 2015-08-30|[i, had, high, ho...|   506|\n",
            "|         US|   29182364|R3HSV00TV8ZVIQ|B00KBMAJU8|     840979722|            AudioBox|Musical Instruments|          4|           14|         15|   Y|                N|    Pretty impressed|After almost two ...| 2015-08-30|[after, almost, t...|  1631|\n",
            "|         US|   36492211| R9HEZM8VL7CGX|B00YRKPB3K|     219663516|D'Addario Reserve...|Musical Instruments|          4|            2|          3|   Y|                N|       Hold up well.|If you even play ...| 2015-08-30|[if, you, even, p...|   139|\n",
            "|         US|   32479799|R2BKYUTINKB50J|B00RBQV2XK|     305411654|Mackie FREEPLAY -...|Musical Instruments|          5|           10|         11|   Y|                N|Fantastic sound a...|This PA system is...| 2015-08-29|[this, pa, system...|   313|\n",
            "|         US|   52224246| R8VGCE136PO4Q|B00KBMAJU8|     840979722|            AudioBox|Musical Instruments|          5|            1|          1|   Y|                N|Good interface bo...|I've been playing...| 2015-08-28|[i've, been, play...|   350|\n",
            "|         US|   38409053|R104E1IFINZRCZ|B00YRKPB3K|     219663516|D'Addario Reserve...|Musical Instruments|          5|            1|          2|   Y|                N|Great quality for...|My daughter plays...| 2015-08-28|[my, daughter, pl...|    54|\n",
            "|         US|   52681722|R2EHKG3PNT3LX5|B00RBQV2XK|     305411654|Mackie FREEPLAY -...|Musical Instruments|          5|            4|          6|   Y|                N|Great sound and a...|Mackie is a very ...| 2015-08-27|[mackie, is, a, v...|  1681|\n",
            "|         US|   51747304|R2ISA9U5H62QPI|B011QVG9L0|     513044724|Promark Glenn Kot...|Musical Instruments|          5|            2|          4|   Y|                N|A nice pair of dr...|These drum sticks...| 2015-08-27|[these, drum, sti...|    56|\n",
            "|         US|   42689422|R1R9RU7JW0MFR2|B0124Y99PQ|     618027384|Casio CGP-700BK C...|Musical Instruments|          4|           20|         23|   Y|                N|Be prepared to be...|First off PLEASE ...| 2015-08-27|[first, off, plea...|   643|\n",
            "|         US|   52863557|R3Q8KGZCS8YTRU|B00RBQV2XK|     305411654|Mackie FREEPLAY -...|Musical Instruments|          2|            1|          2|   Y|                N|Did not perform a...|Mostly a disappoi...| 2015-08-25|[mostly, a, disap...|   173|\n",
            "|         US|   48204392| RANMPLXU7PFYQ|B00ZU4G0ZK|     499223759|TC Electronic Pol...|Musical Instruments|          3|            0|          2|   Y|                N|Confusing, Unintu...|As a straightforw...| 2015-08-25|[as, a, straightf...|   756|\n",
            "|         US|   52374114|R2YW7YQ9C8RRUP|B00ZU4G0ZK|     499223759|TC Electronic Pol...|Musical Instruments|          5|            4|          5|   Y|                N|Nice electronic g...|I use the TC Elec...| 2015-08-25|[i, use, the, tc,...|    93|\n",
            "|         US|   52176256| RCXUDW1XEG1W8|B00RBQV2XK|     305411654|Mackie FREEPLAY -...|Musical Instruments|          3|            0|          2|   Y|                N|GREAT at what it ...|The Mackie Freepl...| 2015-08-25|[the, mackie, fre...|   511|\n",
            "|         US|   27769608| RZY36FU4OH90C|B00KBMAJU8|     840979722|            AudioBox|Musical Instruments|          3|            5|          7|   Y|                N|Not bad, but not ...|First things firs...| 2015-08-25|[first, things, f...|   261|\n",
            "+-----------+-----------+--------------+----------+--------------+--------------------+-------------------+-----------+-------------+-----------+----+-----------------+--------------------+--------------------+-----------+--------------------+------+\n",
            "only showing top 20 rows\n",
            "\n"
          ]
        }
      ]
    },
    {
      "cell_type": "code",
      "source": [
        "print(vine_total_votes_df.count())"
      ],
      "metadata": {
        "colab": {
          "base_uri": "https://localhost:8080/"
        },
        "id": "Q0hWMDXt9qJ1",
        "outputId": "1b2fb766-a611-477f-944c-505aafa4c242"
      },
      "execution_count": 22,
      "outputs": [
        {
          "output_type": "stream",
          "name": "stdout",
          "text": [
            "1343\n"
          ]
        }
      ]
    },
    {
      "cell_type": "code",
      "source": [
        "non_vine_reviews_df = user_reviews_df.filter(user_reviews_df.vine == 'N')\n",
        "non_vine_reviews_df.show()"
      ],
      "metadata": {
        "colab": {
          "base_uri": "https://localhost:8080/"
        },
        "id": "Ed0tCsUClgzR",
        "outputId": "e88a2809-1c88-4bf1-f3b9-f98b121e959b"
      },
      "execution_count": 23,
      "outputs": [
        {
          "output_type": "stream",
          "name": "stdout",
          "text": [
            "+-----------+-----------+--------------+----------+--------------+--------------------+-------------------+-----------+-------------+-----------+----+-----------------+--------------------+--------------------+-----------+\n",
            "|marketplace|customer_id|     review_id|product_id|product_parent|       product_title|   product_category|star_rating|helpful_votes|total_votes|vine|verified_purchase|     review_headline|         review_body|review_date|\n",
            "+-----------+-----------+--------------+----------+--------------+--------------------+-------------------+-----------+-------------+-----------+----+-----------------+--------------------+--------------------+-----------+\n",
            "|         US|   45610553| RMDCHWD0Y5OZ9|B00HH62VB6|     618218723|AGPtek® 10 Isolat...|Musical Instruments|          3|            0|          1|   N|                N|         Three Stars|Works very good, ...| 2015-08-31|\n",
            "|         US|   14640079| RZSL0BALIYUNU|B003LRN53I|     986692292|Sennheiser HD203 ...|Musical Instruments|          5|            0|          0|   N|                Y|          Five Stars|Nice headphones a...| 2015-08-31|\n",
            "|         US|    6111003| RIZR67JKUDBI0|B0006VMBHI|     603261968|AudioQuest LP rec...|Musical Instruments|          3|            0|          1|   N|                Y|         Three Stars|removes dust. doe...| 2015-08-31|\n",
            "|         US|    1546619|R27HL570VNL85F|B002B55TRG|     575084461|Hohner Inc. 560BX...|Musical Instruments|          5|            0|          0|   N|                Y|I purchase these ...|I purchase these ...| 2015-08-31|\n",
            "|         US|   12222213|R34EBU9QDWJ1GD|B00N1YPXW2|     165236328|Blue Yeti USB Mic...|Musical Instruments|          5|            0|          0|   N|                Y|          Five Stars|This is an awesom...| 2015-08-31|\n",
            "|         US|   46018513|R1WCUI4Z1SIQEO|B001N4GRGS|     134151483|Middle Atlantic P...|Musical Instruments|          5|            0|          0|   N|                N|          Five Stars|Used to cool equi...| 2015-08-31|\n",
            "|         US|   10225065| RL5LNO26GAVJ1|B009PJRMHQ|     694166585|Kmise 1pc Pickgua...|Musical Instruments|          2|            3|          4|   N|                Y|Will not Fit Epip...|Note- Does not Fi...| 2015-08-31|\n",
            "|         US|    6356995|R3GYQ5W8JHP8SB|B00NKBDAZS|     446431775|Kealoha Concert U...|Musical Instruments|          5|            0|          0|   N|                Y|          Five Stars|Well built Ukulel...| 2015-08-31|\n",
            "|         US|   35297198|R30SHYQXGG5EYC|B006MIU7U2|     125871705|Halco 80000 - MR1...|Musical Instruments|          5|            0|          0|   N|                Y|Works fine. Hope ...|Had to replace a ...| 2015-08-31|\n",
            "|         US|   32139520|R14YLXA56NP51I|B000FIBD0I|     771888534|Gator GPTBLACK Pl...|Musical Instruments|          5|            1|          1|   N|                N|I upgraded the po...|I've owned multip...| 2015-08-31|\n",
            "|         US|   36060782|R1ZH0HSH38IOTZ|B0002E52GG|      68535945|Hetman 1 - Light ...|Musical Instruments|          5|            0|          0|   N|                Y|My son's favourit...|Consistent qualit...| 2015-08-31|\n",
            "|         US|    5301309|R3H53KLLC210XI|B00RZIH52G|     725541773|Dragonpad pop fil...|Musical Instruments|          4|            0|          0|   N|                Y|Great pop filter ...|by far the best p...| 2015-08-31|\n",
            "|         US|   37472935|R3OOR877NGA8JK|B001792BAU|      46570323|DharmaObjects Rel...|Musical Instruments|          3|            0|          0|   N|                Y|                  Ok|Beautiful set. On...| 2015-08-31|\n",
            "|         US|   33578270|R1BY7WKOZ3KMH0|B009GSKW1Y|     547963417|Musiclily SSS Pla...|Musical Instruments|          2|            0|          0|   N|                Y|           Two Stars|Bridge pickup was...| 2015-08-31|\n",
            "|         US|   22070226| RXP1TFSWE8EG9|B0002F4TKA|     436074323|Vic Firth America...|Musical Instruments|          5|            0|          0|   N|                Y|          Five Stars|Feels good and la...| 2015-08-31|\n",
            "|         US|   52862655|R3J44DPP12OTLJ|B00K17YFBW|      81933093|Guitar Stand for ...|Musical Instruments|          5|            0|          0|   N|                Y|Great stand... on...|I love the stand....| 2015-08-31|\n",
            "|         US|    4427243| RFOV69SK0T676|B00EQ24HJS|     669249276|Generic 3PLY Faux...|Musical Instruments|          5|            0|          0|   N|                Y|Looks great. You ...|On time. Looks gr...| 2015-08-31|\n",
            "|         US|   14108571|R2HUWDNW62FOL3|B00IBOYTUE|     749537231|Audio 2000 6525 3...|Musical Instruments|          1|            0|          0|   N|                Y|  Poor sound quality|I was hoping it w...| 2015-08-31|\n",
            "|         US|   27314089|R1KSU30XZGR452|B00FBRUSAE|     792472601|Sawtooth ST-AMP-1...|Musical Instruments|          5|            0|          0|   N|                Y|Perfect for the b...|Good sound for it...| 2015-08-31|\n",
            "|         US|   16735445|R2TZVLLTSHA07N|B0113D2QUO|     269114019|Upado Unlimited G...|Musical Instruments|          5|            1|          1|   N|                Y|It really is a mu...|Wow! I didn't exp...| 2015-08-31|\n",
            "+-----------+-----------+--------------+----------+--------------+--------------------+-------------------+-----------+-------------+-----------+----+-----------------+--------------------+--------------------+-----------+\n",
            "only showing top 20 rows\n",
            "\n"
          ]
        }
      ]
    },
    {
      "cell_type": "code",
      "source": [
        "print(non_vine_reviews_df.count())"
      ],
      "metadata": {
        "colab": {
          "base_uri": "https://localhost:8080/"
        },
        "id": "ctrudMdbly2x",
        "outputId": "72ae0b8d-4113-4eed-e72f-66c3feff24b5"
      },
      "execution_count": 24,
      "outputs": [
        {
          "output_type": "stream",
          "name": "stdout",
          "text": [
            "902476\n"
          ]
        }
      ]
    },
    {
      "cell_type": "code",
      "source": [
        "non_vine_reviews_df = non_vine_reviews_df.dropna()"
      ],
      "metadata": {
        "id": "1dMDq9pllqyh"
      },
      "execution_count": 25,
      "outputs": []
    },
    {
      "cell_type": "code",
      "source": [
        "print(non_vine_reviews_df.count())"
      ],
      "metadata": {
        "colab": {
          "base_uri": "https://localhost:8080/"
        },
        "id": "4blF7qJpmG5H",
        "outputId": "c79f7e79-e2f9-45f5-dae5-a9ab8f6a953d"
      },
      "execution_count": 26,
      "outputs": [
        {
          "output_type": "stream",
          "name": "stdout",
          "text": [
            "902376\n"
          ]
        }
      ]
    },
    {
      "cell_type": "code",
      "source": [
        "non_vine_reviews_df.show()"
      ],
      "metadata": {
        "colab": {
          "base_uri": "https://localhost:8080/"
        },
        "id": "7RXQSOKxmQCW",
        "outputId": "99dfb139-18dd-421e-d3d6-84bb04aab580"
      },
      "execution_count": 27,
      "outputs": [
        {
          "output_type": "stream",
          "name": "stdout",
          "text": [
            "+-----------+-----------+--------------+----------+--------------+--------------------+-------------------+-----------+-------------+-----------+----+-----------------+--------------------+--------------------+-----------+\n",
            "|marketplace|customer_id|     review_id|product_id|product_parent|       product_title|   product_category|star_rating|helpful_votes|total_votes|vine|verified_purchase|     review_headline|         review_body|review_date|\n",
            "+-----------+-----------+--------------+----------+--------------+--------------------+-------------------+-----------+-------------+-----------+----+-----------------+--------------------+--------------------+-----------+\n",
            "|         US|   45610553| RMDCHWD0Y5OZ9|B00HH62VB6|     618218723|AGPtek® 10 Isolat...|Musical Instruments|          3|            0|          1|   N|                N|         Three Stars|Works very good, ...| 2015-08-31|\n",
            "|         US|   14640079| RZSL0BALIYUNU|B003LRN53I|     986692292|Sennheiser HD203 ...|Musical Instruments|          5|            0|          0|   N|                Y|          Five Stars|Nice headphones a...| 2015-08-31|\n",
            "|         US|    6111003| RIZR67JKUDBI0|B0006VMBHI|     603261968|AudioQuest LP rec...|Musical Instruments|          3|            0|          1|   N|                Y|         Three Stars|removes dust. doe...| 2015-08-31|\n",
            "|         US|    1546619|R27HL570VNL85F|B002B55TRG|     575084461|Hohner Inc. 560BX...|Musical Instruments|          5|            0|          0|   N|                Y|I purchase these ...|I purchase these ...| 2015-08-31|\n",
            "|         US|   12222213|R34EBU9QDWJ1GD|B00N1YPXW2|     165236328|Blue Yeti USB Mic...|Musical Instruments|          5|            0|          0|   N|                Y|          Five Stars|This is an awesom...| 2015-08-31|\n",
            "|         US|   46018513|R1WCUI4Z1SIQEO|B001N4GRGS|     134151483|Middle Atlantic P...|Musical Instruments|          5|            0|          0|   N|                N|          Five Stars|Used to cool equi...| 2015-08-31|\n",
            "|         US|   10225065| RL5LNO26GAVJ1|B009PJRMHQ|     694166585|Kmise 1pc Pickgua...|Musical Instruments|          2|            3|          4|   N|                Y|Will not Fit Epip...|Note- Does not Fi...| 2015-08-31|\n",
            "|         US|    6356995|R3GYQ5W8JHP8SB|B00NKBDAZS|     446431775|Kealoha Concert U...|Musical Instruments|          5|            0|          0|   N|                Y|          Five Stars|Well built Ukulel...| 2015-08-31|\n",
            "|         US|   35297198|R30SHYQXGG5EYC|B006MIU7U2|     125871705|Halco 80000 - MR1...|Musical Instruments|          5|            0|          0|   N|                Y|Works fine. Hope ...|Had to replace a ...| 2015-08-31|\n",
            "|         US|   32139520|R14YLXA56NP51I|B000FIBD0I|     771888534|Gator GPTBLACK Pl...|Musical Instruments|          5|            1|          1|   N|                N|I upgraded the po...|I've owned multip...| 2015-08-31|\n",
            "|         US|   36060782|R1ZH0HSH38IOTZ|B0002E52GG|      68535945|Hetman 1 - Light ...|Musical Instruments|          5|            0|          0|   N|                Y|My son's favourit...|Consistent qualit...| 2015-08-31|\n",
            "|         US|    5301309|R3H53KLLC210XI|B00RZIH52G|     725541773|Dragonpad pop fil...|Musical Instruments|          4|            0|          0|   N|                Y|Great pop filter ...|by far the best p...| 2015-08-31|\n",
            "|         US|   37472935|R3OOR877NGA8JK|B001792BAU|      46570323|DharmaObjects Rel...|Musical Instruments|          3|            0|          0|   N|                Y|                  Ok|Beautiful set. On...| 2015-08-31|\n",
            "|         US|   33578270|R1BY7WKOZ3KMH0|B009GSKW1Y|     547963417|Musiclily SSS Pla...|Musical Instruments|          2|            0|          0|   N|                Y|           Two Stars|Bridge pickup was...| 2015-08-31|\n",
            "|         US|   22070226| RXP1TFSWE8EG9|B0002F4TKA|     436074323|Vic Firth America...|Musical Instruments|          5|            0|          0|   N|                Y|          Five Stars|Feels good and la...| 2015-08-31|\n",
            "|         US|   52862655|R3J44DPP12OTLJ|B00K17YFBW|      81933093|Guitar Stand for ...|Musical Instruments|          5|            0|          0|   N|                Y|Great stand... on...|I love the stand....| 2015-08-31|\n",
            "|         US|    4427243| RFOV69SK0T676|B00EQ24HJS|     669249276|Generic 3PLY Faux...|Musical Instruments|          5|            0|          0|   N|                Y|Looks great. You ...|On time. Looks gr...| 2015-08-31|\n",
            "|         US|   14108571|R2HUWDNW62FOL3|B00IBOYTUE|     749537231|Audio 2000 6525 3...|Musical Instruments|          1|            0|          0|   N|                Y|  Poor sound quality|I was hoping it w...| 2015-08-31|\n",
            "|         US|   27314089|R1KSU30XZGR452|B00FBRUSAE|     792472601|Sawtooth ST-AMP-1...|Musical Instruments|          5|            0|          0|   N|                Y|Perfect for the b...|Good sound for it...| 2015-08-31|\n",
            "|         US|   16735445|R2TZVLLTSHA07N|B0113D2QUO|     269114019|Upado Unlimited G...|Musical Instruments|          5|            1|          1|   N|                Y|It really is a mu...|Wow! I didn't exp...| 2015-08-31|\n",
            "+-----------+-----------+--------------+----------+--------------+--------------------+-------------------+-----------+-------------+-----------+----+-----------------+--------------------+--------------------+-----------+\n",
            "only showing top 20 rows\n",
            "\n"
          ]
        }
      ]
    },
    {
      "cell_type": "code",
      "source": [
        "non_vine_reviews_df = tokenizer.transform(non_vine_reviews_df)\n",
        "non_vine_reviews_df.show()"
      ],
      "metadata": {
        "colab": {
          "base_uri": "https://localhost:8080/"
        },
        "id": "c06Uxz-Kmve9",
        "outputId": "216ee4a0-8539-4e02-b9b5-5da59e7f0850"
      },
      "execution_count": 28,
      "outputs": [
        {
          "output_type": "stream",
          "name": "stdout",
          "text": [
            "+-----------+-----------+--------------+----------+--------------+--------------------+-------------------+-----------+-------------+-----------+----+-----------------+--------------------+--------------------+-----------+--------------------+\n",
            "|marketplace|customer_id|     review_id|product_id|product_parent|       product_title|   product_category|star_rating|helpful_votes|total_votes|vine|verified_purchase|     review_headline|         review_body|review_date|               words|\n",
            "+-----------+-----------+--------------+----------+--------------+--------------------+-------------------+-----------+-------------+-----------+----+-----------------+--------------------+--------------------+-----------+--------------------+\n",
            "|         US|   45610553| RMDCHWD0Y5OZ9|B00HH62VB6|     618218723|AGPtek® 10 Isolat...|Musical Instruments|          3|            0|          1|   N|                N|         Three Stars|Works very good, ...| 2015-08-31|[works, very, goo...|\n",
            "|         US|   14640079| RZSL0BALIYUNU|B003LRN53I|     986692292|Sennheiser HD203 ...|Musical Instruments|          5|            0|          0|   N|                Y|          Five Stars|Nice headphones a...| 2015-08-31|[nice, headphones...|\n",
            "|         US|    6111003| RIZR67JKUDBI0|B0006VMBHI|     603261968|AudioQuest LP rec...|Musical Instruments|          3|            0|          1|   N|                Y|         Three Stars|removes dust. doe...| 2015-08-31|[removes, dust., ...|\n",
            "|         US|    1546619|R27HL570VNL85F|B002B55TRG|     575084461|Hohner Inc. 560BX...|Musical Instruments|          5|            0|          0|   N|                Y|I purchase these ...|I purchase these ...| 2015-08-31|[i, purchase, the...|\n",
            "|         US|   12222213|R34EBU9QDWJ1GD|B00N1YPXW2|     165236328|Blue Yeti USB Mic...|Musical Instruments|          5|            0|          0|   N|                Y|          Five Stars|This is an awesom...| 2015-08-31|[this, is, an, aw...|\n",
            "|         US|   46018513|R1WCUI4Z1SIQEO|B001N4GRGS|     134151483|Middle Atlantic P...|Musical Instruments|          5|            0|          0|   N|                N|          Five Stars|Used to cool equi...| 2015-08-31|[used, to, cool, ...|\n",
            "|         US|   10225065| RL5LNO26GAVJ1|B009PJRMHQ|     694166585|Kmise 1pc Pickgua...|Musical Instruments|          2|            3|          4|   N|                Y|Will not Fit Epip...|Note- Does not Fi...| 2015-08-31|[note-, does, not...|\n",
            "|         US|    6356995|R3GYQ5W8JHP8SB|B00NKBDAZS|     446431775|Kealoha Concert U...|Musical Instruments|          5|            0|          0|   N|                Y|          Five Stars|Well built Ukulel...| 2015-08-31|[well, built, uku...|\n",
            "|         US|   35297198|R30SHYQXGG5EYC|B006MIU7U2|     125871705|Halco 80000 - MR1...|Musical Instruments|          5|            0|          0|   N|                Y|Works fine. Hope ...|Had to replace a ...| 2015-08-31|[had, to, replace...|\n",
            "|         US|   32139520|R14YLXA56NP51I|B000FIBD0I|     771888534|Gator GPTBLACK Pl...|Musical Instruments|          5|            1|          1|   N|                N|I upgraded the po...|I've owned multip...| 2015-08-31|[i've, owned, mul...|\n",
            "|         US|   36060782|R1ZH0HSH38IOTZ|B0002E52GG|      68535945|Hetman 1 - Light ...|Musical Instruments|          5|            0|          0|   N|                Y|My son's favourit...|Consistent qualit...| 2015-08-31|[consistent, qual...|\n",
            "|         US|    5301309|R3H53KLLC210XI|B00RZIH52G|     725541773|Dragonpad pop fil...|Musical Instruments|          4|            0|          0|   N|                Y|Great pop filter ...|by far the best p...| 2015-08-31|[by, far, the, be...|\n",
            "|         US|   37472935|R3OOR877NGA8JK|B001792BAU|      46570323|DharmaObjects Rel...|Musical Instruments|          3|            0|          0|   N|                Y|                  Ok|Beautiful set. On...| 2015-08-31|[beautiful, set.,...|\n",
            "|         US|   33578270|R1BY7WKOZ3KMH0|B009GSKW1Y|     547963417|Musiclily SSS Pla...|Musical Instruments|          2|            0|          0|   N|                Y|           Two Stars|Bridge pickup was...| 2015-08-31|[bridge, pickup, ...|\n",
            "|         US|   22070226| RXP1TFSWE8EG9|B0002F4TKA|     436074323|Vic Firth America...|Musical Instruments|          5|            0|          0|   N|                Y|          Five Stars|Feels good and la...| 2015-08-31|[feels, good, and...|\n",
            "|         US|   52862655|R3J44DPP12OTLJ|B00K17YFBW|      81933093|Guitar Stand for ...|Musical Instruments|          5|            0|          0|   N|                Y|Great stand... on...|I love the stand....| 2015-08-31|[i, love, the, st...|\n",
            "|         US|    4427243| RFOV69SK0T676|B00EQ24HJS|     669249276|Generic 3PLY Faux...|Musical Instruments|          5|            0|          0|   N|                Y|Looks great. You ...|On time. Looks gr...| 2015-08-31|[on, time., looks...|\n",
            "|         US|   14108571|R2HUWDNW62FOL3|B00IBOYTUE|     749537231|Audio 2000 6525 3...|Musical Instruments|          1|            0|          0|   N|                Y|  Poor sound quality|I was hoping it w...| 2015-08-31|[i, was, hoping, ...|\n",
            "|         US|   27314089|R1KSU30XZGR452|B00FBRUSAE|     792472601|Sawtooth ST-AMP-1...|Musical Instruments|          5|            0|          0|   N|                Y|Perfect for the b...|Good sound for it...| 2015-08-31|[good, sound, for...|\n",
            "|         US|   16735445|R2TZVLLTSHA07N|B0113D2QUO|     269114019|Upado Unlimited G...|Musical Instruments|          5|            1|          1|   N|                Y|It really is a mu...|Wow! I didn't exp...| 2015-08-31|[wow!, i, didn't,...|\n",
            "+-----------+-----------+--------------+----------+--------------+--------------------+-------------------+-----------+-------------+-----------+----+-----------------+--------------------+--------------------+-----------+--------------------+\n",
            "only showing top 20 rows\n",
            "\n"
          ]
        }
      ]
    },
    {
      "cell_type": "code",
      "source": [
        "non_vine_reviews_df = non_vine_reviews_df.withColumn(\"tokens\", count_tokens(col(\"words\")))\n",
        "non_vine_reviews_df.show()"
      ],
      "metadata": {
        "colab": {
          "base_uri": "https://localhost:8080/"
        },
        "id": "mSEJeGipm9aD",
        "outputId": "3feea555-1b25-4de4-e6fc-1dfc530e633c"
      },
      "execution_count": 29,
      "outputs": [
        {
          "output_type": "stream",
          "name": "stdout",
          "text": [
            "+-----------+-----------+--------------+----------+--------------+--------------------+-------------------+-----------+-------------+-----------+----+-----------------+--------------------+--------------------+-----------+--------------------+------+\n",
            "|marketplace|customer_id|     review_id|product_id|product_parent|       product_title|   product_category|star_rating|helpful_votes|total_votes|vine|verified_purchase|     review_headline|         review_body|review_date|               words|tokens|\n",
            "+-----------+-----------+--------------+----------+--------------+--------------------+-------------------+-----------+-------------+-----------+----+-----------------+--------------------+--------------------+-----------+--------------------+------+\n",
            "|         US|   45610553| RMDCHWD0Y5OZ9|B00HH62VB6|     618218723|AGPtek® 10 Isolat...|Musical Instruments|          3|            0|          1|   N|                N|         Three Stars|Works very good, ...| 2015-08-31|[works, very, goo...|     8|\n",
            "|         US|   14640079| RZSL0BALIYUNU|B003LRN53I|     986692292|Sennheiser HD203 ...|Musical Instruments|          5|            0|          0|   N|                Y|          Five Stars|Nice headphones a...| 2015-08-31|[nice, headphones...|     6|\n",
            "|         US|    6111003| RIZR67JKUDBI0|B0006VMBHI|     603261968|AudioQuest LP rec...|Musical Instruments|          3|            0|          1|   N|                Y|         Three Stars|removes dust. doe...| 2015-08-31|[removes, dust., ...|     5|\n",
            "|         US|    1546619|R27HL570VNL85F|B002B55TRG|     575084461|Hohner Inc. 560BX...|Musical Instruments|          5|            0|          0|   N|                Y|I purchase these ...|I purchase these ...| 2015-08-31|[i, purchase, the...|    25|\n",
            "|         US|   12222213|R34EBU9QDWJ1GD|B00N1YPXW2|     165236328|Blue Yeti USB Mic...|Musical Instruments|          5|            0|          0|   N|                Y|          Five Stars|This is an awesom...| 2015-08-31|[this, is, an, aw...|     5|\n",
            "|         US|   46018513|R1WCUI4Z1SIQEO|B001N4GRGS|     134151483|Middle Atlantic P...|Musical Instruments|          5|            0|          0|   N|                N|          Five Stars|Used to cool equi...| 2015-08-31|[used, to, cool, ...|     9|\n",
            "|         US|   10225065| RL5LNO26GAVJ1|B009PJRMHQ|     694166585|Kmise 1pc Pickgua...|Musical Instruments|          2|            3|          4|   N|                Y|Will not Fit Epip...|Note- Does not Fi...| 2015-08-31|[note-, does, not...|    88|\n",
            "|         US|    6356995|R3GYQ5W8JHP8SB|B00NKBDAZS|     446431775|Kealoha Concert U...|Musical Instruments|          5|            0|          0|   N|                Y|          Five Stars|Well built Ukulel...| 2015-08-31|[well, built, uku...|     7|\n",
            "|         US|   35297198|R30SHYQXGG5EYC|B006MIU7U2|     125871705|Halco 80000 - MR1...|Musical Instruments|          5|            0|          0|   N|                Y|Works fine. Hope ...|Had to replace a ...| 2015-08-31|[had, to, replace...|    22|\n",
            "|         US|   32139520|R14YLXA56NP51I|B000FIBD0I|     771888534|Gator GPTBLACK Pl...|Musical Instruments|          5|            1|          1|   N|                N|I upgraded the po...|I've owned multip...| 2015-08-31|[i've, owned, mul...|   218|\n",
            "|         US|   36060782|R1ZH0HSH38IOTZ|B0002E52GG|      68535945|Hetman 1 - Light ...|Musical Instruments|          5|            0|          0|   N|                Y|My son's favourit...|Consistent qualit...| 2015-08-31|[consistent, qual...|    30|\n",
            "|         US|    5301309|R3H53KLLC210XI|B00RZIH52G|     725541773|Dragonpad pop fil...|Musical Instruments|          4|            0|          0|   N|                Y|Great pop filter ...|by far the best p...| 2015-08-31|[by, far, the, be...|    35|\n",
            "|         US|   37472935|R3OOR877NGA8JK|B001792BAU|      46570323|DharmaObjects Rel...|Musical Instruments|          3|            0|          0|   N|                Y|                  Ok|Beautiful set. On...| 2015-08-31|[beautiful, set.,...|    10|\n",
            "|         US|   33578270|R1BY7WKOZ3KMH0|B009GSKW1Y|     547963417|Musiclily SSS Pla...|Musical Instruments|          2|            0|          0|   N|                Y|           Two Stars|Bridge pickup was...| 2015-08-31|[bridge, pickup, ...|    17|\n",
            "|         US|   22070226| RXP1TFSWE8EG9|B0002F4TKA|     436074323|Vic Firth America...|Musical Instruments|          5|            0|          0|   N|                Y|          Five Stars|Feels good and la...| 2015-08-31|[feels, good, and...|     5|\n",
            "|         US|   52862655|R3J44DPP12OTLJ|B00K17YFBW|      81933093|Guitar Stand for ...|Musical Instruments|          5|            0|          0|   N|                Y|Great stand... on...|I love the stand....| 2015-08-31|[i, love, the, st...|    43|\n",
            "|         US|    4427243| RFOV69SK0T676|B00EQ24HJS|     669249276|Generic 3PLY Faux...|Musical Instruments|          5|            0|          0|   N|                Y|Looks great. You ...|On time. Looks gr...| 2015-08-31|[on, time., looks...|    16|\n",
            "|         US|   14108571|R2HUWDNW62FOL3|B00IBOYTUE|     749537231|Audio 2000 6525 3...|Musical Instruments|          1|            0|          0|   N|                Y|  Poor sound quality|I was hoping it w...| 2015-08-31|[i, was, hoping, ...|    56|\n",
            "|         US|   27314089|R1KSU30XZGR452|B00FBRUSAE|     792472601|Sawtooth ST-AMP-1...|Musical Instruments|          5|            0|          0|   N|                Y|Perfect for the b...|Good sound for it...| 2015-08-31|[good, sound, for...|    21|\n",
            "|         US|   16735445|R2TZVLLTSHA07N|B0113D2QUO|     269114019|Upado Unlimited G...|Musical Instruments|          5|            1|          1|   N|                Y|It really is a mu...|Wow! I didn't exp...| 2015-08-31|[wow!, i, didn't,...|    39|\n",
            "+-----------+-----------+--------------+----------+--------------+--------------------+-------------------+-----------+-------------+-----------+----+-----------------+--------------------+--------------------+-----------+--------------------+------+\n",
            "only showing top 20 rows\n",
            "\n"
          ]
        }
      ]
    },
    {
      "cell_type": "code",
      "source": [
        "non_vine_reviews = non_vine_reviews_df.filter(non_vine_reviews_df.tokens > 10)\n",
        "print(non_vine_reviews.count())"
      ],
      "metadata": {
        "colab": {
          "base_uri": "https://localhost:8080/"
        },
        "id": "dgcduU3mnD5V",
        "outputId": "e48f0c91-76c9-4fcd-b161-3f9a8673702f"
      },
      "execution_count": 30,
      "outputs": [
        {
          "output_type": "stream",
          "name": "stdout",
          "text": [
            "744572\n"
          ]
        }
      ]
    },
    {
      "cell_type": "code",
      "source": [
        "non_vine_helpful_votes = non_vine_reviews_df.filter(non_vine_reviews_df.helpful_votes != 0)\n",
        "print(non_vine_helpful_votes.count())"
      ],
      "metadata": {
        "colab": {
          "base_uri": "https://localhost:8080/"
        },
        "id": "2CTC3tx_qaCL",
        "outputId": "3074e702-452f-4d97-be32-cca8154c4302"
      },
      "execution_count": 31,
      "outputs": [
        {
          "output_type": "stream",
          "name": "stdout",
          "text": [
            "351209\n"
          ]
        }
      ]
    },
    {
      "cell_type": "code",
      "source": [
        "non_vine_total_votes = non_vine_reviews_df.filter(non_vine_reviews_df.total_votes != 0)\n",
        "print(non_vine_total_votes.count())"
      ],
      "metadata": {
        "colab": {
          "base_uri": "https://localhost:8080/"
        },
        "id": "_-V8zSmBqwF7",
        "outputId": "0f2039de-ca5a-44dc-dbd0-243c7c9b54a9"
      },
      "execution_count": 32,
      "outputs": [
        {
          "output_type": "stream",
          "name": "stdout",
          "text": [
            "419987\n"
          ]
        }
      ]
    },
    {
      "cell_type": "code",
      "source": [
        "mode = \"append\"\n",
        "jdbc_url=\"jdbc:postgresql://big-data-etl-db.cxzqhrhgawdk.us-east-2.rds.amazonaws.com:5432/big-data-etl-db\"\n",
        "config = {\"user\":\"root\", \"password\": \"42517131\", \"driver\":\"org.postgresql.Driver\"}"
      ],
      "metadata": {
        "id": "NHdl6k9oYtNA"
      },
      "execution_count": 36,
      "outputs": []
    },
    {
      "cell_type": "code",
      "execution_count": 37,
      "metadata": {
        "id": "aHbca4zN2yIa"
      },
      "outputs": [],
      "source": [
        "# Write customers_df to table in RDS\n",
        "vine_reviews_df.write.jdbc(url=jdbc_url, table='vine_reviews', mode=mode, properties=config)"
      ]
    }
  ],
  "metadata": {
    "colab": {
      "provenance": []
    },
    "kernelspec": {
      "display_name": "Python 3",
      "language": "python",
      "name": "python3"
    },
    "language_info": {
      "codemirror_mode": {
        "name": "ipython",
        "version": 3
      },
      "file_extension": ".py",
      "mimetype": "text/x-python",
      "name": "python",
      "nbconvert_exporter": "python",
      "pygments_lexer": "ipython3",
      "version": "3.8.8"
    }
  },
  "nbformat": 4,
  "nbformat_minor": 0
}